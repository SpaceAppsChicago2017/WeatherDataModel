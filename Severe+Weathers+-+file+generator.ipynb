{
 "cells": [
  {
   "cell_type": "markdown",
   "metadata": {},
   "source": [
    "## This Notebook selects and generates the file for severe weather events we care about"
   ]
  },
  {
   "cell_type": "markdown",
   "metadata": {},
   "source": [
    "#### Download data files\n",
    "\n",
    "2013 data: \n",
    "`https://www1.ncdc.noaa.gov/pub/data/swdi/stormevents/csvfiles/StormEvents_details-ftp_v1.0_d2013_c20170419.csv.gz`\n",
    "\n",
    "2014 data: \n",
    "`StormEvents_details-ftp_v1.0_d2014_c20161118.csv.gz`"
   ]
  },
  {
   "cell_type": "code",
   "execution_count": 2,
   "metadata": {
    "collapsed": false
   },
   "outputs": [],
   "source": [
    "url_2013 = 'https://www1.ncdc.noaa.gov/pub/data/swdi/stormevents/csvfiles/StormEvents_details-ftp_v1.0_d2013_c20170419.csv.gz'\n",
    "url_2014 = 'https://www1.ncdc.noaa.gov/pub/data/swdi/stormevents/csvfiles/StormEvents_details-ftp_v1.0_d2014_c20161118.csv.gz'\n",
    "url_2015 = 'https://www1.ncdc.noaa.gov/pub/data/swdi/stormevents/csvfiles/StormEvents_details-ftp_v1.0_d2015_c20170216.csv.gz'\n",
    "url_2016 = 'https://www1.ncdc.noaa.gov/pub/data/swdi/stormevents/csvfiles/StormEvents_details-ftp_v1.0_d2016_c20170419.csv.gz'\n",
    "\n",
    "import os\n",
    "from six.moves.urllib.request import urlretrieve\n",
    "\n",
    "if not os.path.exists('StormEvents_2013.csv.gz'):\n",
    "    urlretrieve(url_2013, 'StormEvents_2013.csv.gz')\n",
    "if not os.path.exists('StormEvents_2014.csv.gz'):\n",
    "    urlretrieve(url_2014, 'StormEvents_2014.csv.gz')\n",
    "if not os.path.exists('StormEvents_2015.csv.gz'):\n",
    "    urlretrieve(url_2015, 'StormEvents_2015.csv.gz')\n",
    "if not os.path.exists('StormEvents_2016.csv.gz'):\n",
    "    urlretrieve(url_2016, 'StormEvents_2016.csv.gz')"
   ]
  },
  {
   "cell_type": "markdown",
   "metadata": {},
   "source": [
    "Then, save the unzipped files as `StormEvents_2013.csv` and `StormEvents_2014.csv`"
   ]
  },
  {
   "cell_type": "code",
   "execution_count": 3,
   "metadata": {
    "collapsed": false
   },
   "outputs": [],
   "source": [
    "import gzip\n",
    "\n",
    "if not os.path.exists('StormEvents_2013.csv'):\n",
    "    gz = gzip.open('StormEvents_2013.csv.gz')\n",
    "    gz_out = open('StormEvents_2013.csv', 'w')\n",
    "    gz_out.write( gz.read() )\n",
    "    gz_out.close()\n",
    "    gz.close()\n",
    "\n",
    "if not os.path.exists('StormEvents_2014.csv'):\n",
    "    gz = gzip.open('StormEvents_2014.csv.gz')\n",
    "    gz_out = open('StormEvents_2014.csv', 'w')\n",
    "    gz_out.write( gz.read() )\n",
    "    gz_out.close()\n",
    "    gz.close()\n",
    " \n",
    "if not os.path.exists('StormEvents_2015.csv'):\n",
    "    gz = gzip.open('StormEvents_2015.csv.gz')\n",
    "    gz_out = open('StormEvents_2015.csv', 'w')\n",
    "    gz_out.write( gz.read() )\n",
    "    gz_out.close()\n",
    "    gz.close()\n",
    "\n",
    "if not os.path.exists('StormEvents_2016.csv'):\n",
    "    gz = gzip.open('StormEvents_2016.csv.gz')\n",
    "    gz_out = open('StormEvents_2016.csv', 'w')\n",
    "    gz_out.write( gz.read() )\n",
    "    gz_out.close()\n",
    "    gz.close()"
   ]
  },
  {
   "cell_type": "markdown",
   "metadata": {},
   "source": [
    "Read the location of every county, so we can covert back from geolocation to state name and county name."
   ]
  },
  {
   "cell_type": "code",
   "execution_count": 4,
   "metadata": {
    "collapsed": false
   },
   "outputs": [],
   "source": [
    "import pandas as pd\n",
    "\n",
    "states_short2long = {\n",
    "        'AK': 'Alaska',\n",
    "        'AL': 'Alabama',\n",
    "        'AR': 'Arkansas',\n",
    "        'AS': 'American Samoa',\n",
    "        'AZ': 'Arizona',\n",
    "        'CA': 'California',\n",
    "        'CO': 'Colorado',\n",
    "        'CT': 'Connecticut',\n",
    "        'DC': 'District of Columbia',\n",
    "        'DE': 'Delaware',\n",
    "        'FL': 'Florida',\n",
    "        'GA': 'Georgia',\n",
    "        'GU': 'Guam',\n",
    "        'HI': 'Hawaii',\n",
    "        'IA': 'Iowa',\n",
    "        'ID': 'Idaho',\n",
    "        'IL': 'Illinois',\n",
    "        'IN': 'Indiana',\n",
    "        'KS': 'Kansas',\n",
    "        'KY': 'Kentucky',\n",
    "        'LA': 'Louisiana',\n",
    "        'MA': 'Massachusetts',\n",
    "        'MD': 'Maryland',\n",
    "        'ME': 'Maine',\n",
    "        'MI': 'Michigan',\n",
    "        'MN': 'Minnesota',\n",
    "        'MO': 'Missouri',\n",
    "        'MP': 'Northern Mariana Islands',\n",
    "        'MS': 'Mississippi',\n",
    "        'MT': 'Montana',\n",
    "        'NA': 'National',\n",
    "        'NC': 'North Carolina',\n",
    "        'ND': 'North Dakota',\n",
    "        'NE': 'Nebraska',\n",
    "        'NH': 'New Hampshire',\n",
    "        'NJ': 'New Jersey',\n",
    "        'NM': 'New Mexico',\n",
    "        'NV': 'Nevada',\n",
    "        'NY': 'New York',\n",
    "        'OH': 'Ohio',\n",
    "        'OK': 'Oklahoma',\n",
    "        'OR': 'Oregon',\n",
    "        'PA': 'Pennsylvania',\n",
    "        'PR': 'Puerto Rico',\n",
    "        'RI': 'Rhode Island',\n",
    "        'SC': 'South Carolina',\n",
    "        'SD': 'South Dakota',\n",
    "        'TN': 'Tennessee',\n",
    "        'TX': 'Texas',\n",
    "        'UT': 'Utah',\n",
    "        'VA': 'Virginia',\n",
    "        'VI': 'Virgin Islands',\n",
    "        'VT': 'Vermont',\n",
    "        'WA': 'Washington',\n",
    "        'WI': 'Wisconsin',\n",
    "        'WV': 'West Virginia',\n",
    "        'WY': 'Wyoming'\n",
    "}\n",
    "\n",
    "zip_code_file = 'zip_codes_states.csv'\n",
    "zip_codes = pd.read_csv(zip_code_file)\n",
    "county_geo_list = []\n",
    "county_name_list = []\n",
    "for row in zip_codes.iterrows():\n",
    "    entry = row[1]\n",
    "    lat = entry.latitude\n",
    "    lng = entry.longitude\n",
    "    county = entry.county\n",
    "    state = entry.state\n",
    "    if (not (pd.isnull(lat) or pd.isnull(lng) or pd.isnull(county) or pd.isnull(state))\n",
    "        and state in states_short2long):\n",
    "        county_geo_list.append((lat, lng))\n",
    "        county_name_list.append((county, states_short2long[state]))"
   ]
  },
  {
   "cell_type": "markdown",
   "metadata": {},
   "source": [
    "However, counties in this file are fine-grained. So we will use the features file to get the list of counties that have weather data collected instead."
   ]
  },
  {
   "cell_type": "code",
   "execution_count": 6,
   "metadata": {
    "collapsed": false
   },
   "outputs": [],
   "source": [
    "features_file = pd.read_csv('feature_data_2.csv')\n",
    "counties = set()\n",
    "\n",
    "for row in features_file.iterrows():\n",
    "    county = row[1]['County.Name']\n",
    "    state = row[1]['State.Name']\n",
    "    counties.add( (county, state) )\n",
    "    \n",
    "county_name_list = list(counties)\n",
    "county_geo_list = []\n",
    "\n",
    "for county, state in county_name_list:\n",
    "    average_lat = features_file.loc[(features_file['County.Name'] == county) &\n",
    "                                   (features_file['State.Name'] == state)]['Latitude'].mean()\n",
    "    average_lng = features_file.loc[(features_file['County.Name'] == county) &\n",
    "                                   (features_file['State.Name'] == state)]['Longitude'].mean()\n",
    "    county_geo_list.append( (average_lat, average_lng) )"
   ]
  },
  {
   "cell_type": "code",
   "execution_count": 7,
   "metadata": {
    "collapsed": true
   },
   "outputs": [],
   "source": [
    "from scipy import spatial\n",
    "\n",
    "county_tree = spatial.KDTree(county_geo_list)"
   ]
  },
  {
   "cell_type": "markdown",
   "metadata": {},
   "source": [
    "Select entries in a square region within a certain time frame"
   ]
  },
  {
   "cell_type": "code",
   "execution_count": 8,
   "metadata": {
    "collapsed": true
   },
   "outputs": [],
   "source": [
    "data_2013 = pd.read_csv('StormEvents_2013.csv')\n",
    "data_2014 = pd.read_csv('StormEvents_2014.csv')\n",
    "data_2015 = pd.read_csv('StormEvents_2015.csv')\n",
    "data_2016 = pd.read_csv('StormEvents_2016.csv')\n",
    "orig_data = pd.concat([data_2013, data_2014, data_2015, data_2016])\n",
    "\n",
    "min_lat = 39.66\n",
    "max_lat = 45.41\n",
    "min_lng = -93.64\n",
    "max_lng = -86.00\n",
    "start_mon = 201601\n",
    "end_mon = 201612\n",
    "\n",
    "out_data = pd.DataFrame(columns=['date', 'type', 'lat', 'lng', 'county', 'state'])\n",
    "\n",
    "for row in orig_data.iterrows():\n",
    "    entry = row[1]\n",
    "    if ((not pd.isnull(entry.BEGIN_YEARMONTH) and start_mon <= int(entry.BEGIN_YEARMONTH) <= end_mon) and\n",
    "        (not pd.isnull(entry.BEGIN_LAT) and min_lat < entry.BEGIN_LAT < max_lat) and\n",
    "        (not pd.isnull(entry.BEGIN_LON) and min_lng < entry.BEGIN_LON < max_lng) ):\n",
    "        county_name, state_name = county_name_list[\n",
    "                county_tree.query((entry.BEGIN_LAT, entry.BEGIN_LON))[1]]\n",
    "        new_record = pd.DataFrame([[str(int(entry.BEGIN_YEARMONTH)) + str(int(entry.BEGIN_DAY)), \n",
    "                entry.EVENT_TYPE, entry.BEGIN_LAT, entry.BEGIN_LON,\n",
    "                county_name, state_name\n",
    "                ]],\n",
    "                columns=['date', 'type', 'lat', 'lng', 'county', 'state'])\n",
    "        # print new_record\n",
    "        out_data = out_data.append(new_record, ignore_index=True)"
   ]
  },
  {
   "cell_type": "code",
   "execution_count": 9,
   "metadata": {
    "collapsed": false,
    "scrolled": true
   },
   "outputs": [
    {
     "name": "stdout",
     "output_type": "stream",
     "text": [
      "          date               type      lat      lng         county      state\n",
      "0     20160315               Hail  42.8400 -89.0700           Dane  Wisconsin\n",
      "1     20160315          Lightning  43.1069 -88.3468       Waukesha  Wisconsin\n",
      "2      2016075            Tornado  44.3935 -92.3456      La Crosse  Wisconsin\n",
      "3      2016077  Thunderstorm Wind  43.2800 -92.8100     Black Hawk       Iowa\n",
      "4      2016075  Thunderstorm Wind  44.1900 -92.6500      La Crosse  Wisconsin\n",
      "5     20160723        Flash Flood  42.0933 -87.7221           Cook   Illinois\n",
      "6     20161118  Thunderstorm Wind  41.0500 -86.6000        Carroll    Indiana\n",
      "7      2016075  Thunderstorm Wind  45.0600 -93.3500        Douglas  Wisconsin\n",
      "8      2016075  Thunderstorm Wind  44.8300 -93.4600      Palo Alto       Iowa\n",
      "9      2016075  Thunderstorm Wind  44.9400 -93.0600        Douglas  Wisconsin\n",
      "10    20160728          Lightning  41.6700 -88.1300           Cook   Illinois\n",
      "11     2016075  Thunderstorm Wind  44.6834 -92.3715      La Crosse  Wisconsin\n",
      "12     2016106  Thunderstorm Wind  42.2221 -87.9865           Cook   Illinois\n",
      "13     2016099            Tornado  39.9728 -88.0739          Clark   Illinois\n",
      "14    20160315            Tornado  41.5342 -90.3616          Scott       Iowa\n",
      "15    20160315               Hail  40.2700 -91.6300      Van Buren       Iowa\n",
      "16    20160315               Hail  40.2700 -91.6300      Van Buren       Iowa\n",
      "17    20160331               Hail  41.7900 -90.2600        Clinton       Iowa\n",
      "18    20160331               Hail  41.7900 -90.2600        Clinton       Iowa\n",
      "19    20160331               Hail  41.8500 -90.1900        Clinton       Iowa\n",
      "20    20160331               Hail  42.1500 -90.6800          Grant  Wisconsin\n",
      "21    20160315               Hail  40.4000 -91.4500      Van Buren       Iowa\n",
      "22    20160315               Hail  40.4200 -91.4000      Van Buren       Iowa\n",
      "23    20160315               Hail  40.4000 -91.4000      Van Buren       Iowa\n",
      "24    20160427               Hail  40.3900 -91.3600      Van Buren       Iowa\n",
      "25    20160427               Hail  40.2300 -91.0600      Van Buren       Iowa\n",
      "26    20160315               Hail  40.9600 -91.5500      Van Buren       Iowa\n",
      "27    20160315               Hail  41.1800 -91.1900      Muscatine       Iowa\n",
      "28    20160315               Hail  41.2800 -91.1900      Muscatine       Iowa\n",
      "29    20160315               Hail  41.2900 -91.1900      Muscatine       Iowa\n",
      "...        ...                ...      ...      ...            ...        ...\n",
      "2443   2016075            Tornado  44.3389 -91.7889      La Crosse  Wisconsin\n",
      "2444   2016075            Tornado  44.3315 -91.7228      La Crosse  Wisconsin\n",
      "2445   2016075  Thunderstorm Wind  44.3300 -91.9200      La Crosse  Wisconsin\n",
      "2446  20160718  Thunderstorm Wind  39.9766 -88.0700          Clark   Illinois\n",
      "2447  20160718  Thunderstorm Wind  39.9200 -87.8200          Clark   Illinois\n",
      "2448  20160719  Thunderstorm Wind  40.9500 -90.3700          Scott       Iowa\n",
      "2449  20160721  Thunderstorm Wind  40.4512 -88.9372          Clark   Illinois\n",
      "2450  20160724  Thunderstorm Wind  40.4421 -90.2000          Scott       Iowa\n",
      "2451  20160721  Thunderstorm Wind  45.0400 -87.7500           Door  Wisconsin\n",
      "2452   2016075  Thunderstorm Wind  43.4000 -90.7700      La Crosse  Wisconsin\n",
      "2453   2016075            Tornado  43.4439 -91.0941      La Crosse  Wisconsin\n",
      "2454   2016075  Thunderstorm Wind  44.5700 -92.0000      La Crosse  Wisconsin\n",
      "2455  20160724  Thunderstorm Wind  39.7800 -89.6400  Saint Charles   Missouri\n",
      "2456  20160724  Thunderstorm Wind  40.4000 -89.6300          Scott       Iowa\n",
      "2457  20160724  Thunderstorm Wind  40.4200 -89.4200        Clinton       Iowa\n",
      "2458  20160721  Thunderstorm Wind  43.9544 -89.5537           Sauk  Wisconsin\n",
      "2459  20160721  Thunderstorm Wind  43.8433 -88.9597          Dodge  Wisconsin\n",
      "2460  20160721  Thunderstorm Wind  43.6881 -89.1973       Columbia  Wisconsin\n",
      "2461   2016076  Thunderstorm Wind  39.7600 -93.3400           Clay   Missouri\n",
      "2462   2016075  Thunderstorm Wind  43.4574 -91.2269      La Crosse  Wisconsin\n",
      "2463   2016077  Thunderstorm Wind  43.0600 -92.3100     Black Hawk       Iowa\n",
      "2464   2016077  Thunderstorm Wind  43.3100 -91.7900      La Crosse  Wisconsin\n",
      "2465   2016077  Thunderstorm Wind  43.6800 -92.1800      La Crosse  Wisconsin\n",
      "2466   2016077  Thunderstorm Wind  43.6100 -92.4300     Black Hawk       Iowa\n",
      "2467   2016076  Thunderstorm Wind  41.1200 -90.1500          Scott       Iowa\n",
      "2468  20160721  Thunderstorm Wind  43.8500 -89.1300       Columbia  Wisconsin\n",
      "2469  20160721  Thunderstorm Wind  43.5300 -89.3000       Columbia  Wisconsin\n",
      "2470  20160721  Thunderstorm Wind  43.4632 -88.8945       Columbia  Wisconsin\n",
      "2471  20160721  Thunderstorm Wind  43.3100 -88.8500       Columbia  Wisconsin\n",
      "2472  20160721  Thunderstorm Wind  43.2685 -89.7411           Sauk  Wisconsin\n",
      "\n",
      "[2473 rows x 6 columns]\n"
     ]
    }
   ],
   "source": [
    "print out_data"
   ]
  },
  {
   "cell_type": "markdown",
   "metadata": {},
   "source": [
    "The features file has every entry with lat, lng, and county, state names. So we may build a dict of the locations of each county, then match the events to counties."
   ]
  },
  {
   "cell_type": "code",
   "execution_count": 12,
   "metadata": {
    "collapsed": true
   },
   "outputs": [],
   "source": [
    "grouped = out_data.groupby(['date', 'type', 'county', 'state'], as_index=False).mean()\n",
    "grouped.to_csv('selected.csv')"
   ]
  },
  {
   "cell_type": "code",
   "execution_count": 13,
   "metadata": {
    "collapsed": false
   },
   "outputs": [
    {
     "name": "stdout",
     "output_type": "stream",
     "text": [
      "         date                      type         county      state        lat  \\\n",
      "0    20160111                     Flood      Van Buren       Iowa  40.975000   \n",
      "1    20160117                     Flood     Black Hawk       Iowa  42.560000   \n",
      "2     2016017                     Flood      Van Buren       Iowa  40.975000   \n",
      "3    20160219                     Flood          Grant  Wisconsin  42.722500   \n",
      "4    20160220                     Flood     Black Hawk       Iowa  42.480000   \n",
      "5    20160221                     Flood      Van Buren       Iowa  40.870000   \n",
      "6    20160222                     Flood      Van Buren       Iowa  41.080000   \n",
      "7    20160223                     Flood           Polk       Iowa  41.590000   \n",
      "8    20160311                     Flood           Sauk  Wisconsin  44.026500   \n",
      "9    20160315                      Hail          Clark   Illinois  40.156000   \n",
      "10   20160315                      Hail        Clinton       Iowa  41.294573   \n",
      "11   20160315                      Hail           Dane  Wisconsin  42.840000   \n",
      "12   20160315                      Hail          Grant  Wisconsin  42.456667   \n",
      "13   20160315                      Hail      Muscatine       Iowa  41.160000   \n",
      "14   20160315                      Hail  Saint Charles   Missouri  39.813333   \n",
      "15   20160315                      Hail           Sauk  Wisconsin  43.600000   \n",
      "16   20160315                      Hail          Scott       Iowa  41.052857   \n",
      "17   20160315                      Hail      Van Buren       Iowa  40.436667   \n",
      "18   20160315                Heavy Rain      La Crosse  Wisconsin  44.326700   \n",
      "19   20160315                Heavy Rain       Marathon  Wisconsin  44.562367   \n",
      "20   20160315                Heavy Rain           Sauk  Wisconsin  43.800000   \n",
      "21   20160315                 Lightning          Dodge  Wisconsin  44.381400   \n",
      "22   20160315                 Lightning       Waukesha  Wisconsin  43.106900   \n",
      "23   20160315         Thunderstorm Wind        Clinton       Iowa  40.750000   \n",
      "24   20160315         Thunderstorm Wind          Scott       Iowa  41.460000   \n",
      "25   20160315                   Tornado        Clinton       Iowa  41.605683   \n",
      "26   20160315                   Tornado      Muscatine       Iowa  40.562100   \n",
      "27   20160315                   Tornado  Saint Charles   Missouri  39.740400   \n",
      "28   20160315                   Tornado          Scott       Iowa  40.890100   \n",
      "29   20160316                     Flood      La Crosse  Wisconsin  44.347700   \n",
      "..        ...                       ...            ...        ...        ...   \n",
      "896  20161017                      Hail      La Crosse  Wisconsin  44.863333   \n",
      "897  20161017  Marine Thunderstorm Wind           Door  Wisconsin  45.339000   \n",
      "898  20161026                     Flood     Black Hawk       Iowa  43.686000   \n",
      "899  20161027                     Flood     Black Hawk       Iowa  43.179300   \n",
      "900  20161028                     Flood     Black Hawk       Iowa  42.560000   \n",
      "901   2016106                      Hail           Polk       Iowa  40.400000   \n",
      "902   2016106                      Hail          Scott       Iowa  40.814500   \n",
      "903   2016106         Thunderstorm Wind           Cook   Illinois  42.222100   \n",
      "904   2016106         Thunderstorm Wind        Kenosha  Wisconsin  42.421150   \n",
      "905   2016106         Thunderstorm Wind      Muscatine       Iowa  41.372167   \n",
      "906   2016106         Thunderstorm Wind          Scott       Iowa  41.461917   \n",
      "907   2016106                   Tornado        Clinton       Iowa  41.662500   \n",
      "908   2016106                   Tornado      Muscatine       Iowa  41.467700   \n",
      "909   2016106                   Tornado          Scott       Iowa  41.442250   \n",
      "910  20161118         Thunderstorm Wind        Carroll    Indiana  40.790000   \n",
      "911  20161118         Thunderstorm Wind          Clark   Illinois  40.090667   \n",
      "912  20161118         Thunderstorm Wind         Marion    Indiana  39.900150   \n",
      "913  20161118         Thunderstorm Wind        Whitley    Indiana  41.170000   \n",
      "914   2016112                      Hail          Clark   Illinois  40.400000   \n",
      "915   2016112                      Hail        Clinton       Iowa  40.620800   \n",
      "916   2016112                      Hail          Scott       Iowa  40.670000   \n",
      "917   2016112         Thunderstorm Wind          Clark   Illinois  39.825000   \n",
      "918   2016112         Thunderstorm Wind  Saint Charles   Missouri  39.790900   \n",
      "919  20161128              Funnel Cloud     Black Hawk       Iowa  42.520000   \n",
      "920  20161128              Funnel Cloud           Linn       Iowa  41.580000   \n",
      "921  20161128                      Hail      Van Buren       Iowa  41.040000   \n",
      "922  20161128                   Tornado     Black Hawk       Iowa  42.475633   \n",
      "923  20161128                   Tornado           Linn       Iowa  41.564800   \n",
      "924  20161128                   Tornado           Polk       Iowa  42.317000   \n",
      "925  20161128                   Tornado      Van Buren       Iowa  41.501900   \n",
      "\n",
      "           lng  \n",
      "0   -92.395000  \n",
      "1   -92.380000  \n",
      "2   -92.395000  \n",
      "3   -90.813700  \n",
      "4   -92.280000  \n",
      "5   -92.210000  \n",
      "6   -92.580000  \n",
      "7   -93.560000  \n",
      "8   -90.072700  \n",
      "9   -88.448200  \n",
      "10  -89.661055  \n",
      "11  -89.070000  \n",
      "12  -90.343333  \n",
      "13  -91.082353  \n",
      "14  -89.911667  \n",
      "15  -89.780000  \n",
      "16  -90.212729  \n",
      "17  -91.457222  \n",
      "18  -90.914500  \n",
      "19  -90.413300  \n",
      "20  -90.080000  \n",
      "21  -88.828400  \n",
      "22  -88.346800  \n",
      "23  -89.570000  \n",
      "24  -90.526667  \n",
      "25  -90.136483  \n",
      "26  -90.673600  \n",
      "27  -89.815300  \n",
      "28  -90.316275  \n",
      "29  -90.795650  \n",
      "..         ...  \n",
      "896 -92.676667  \n",
      "897 -86.410400  \n",
      "898 -93.041600  \n",
      "899 -92.769950  \n",
      "900 -92.380000  \n",
      "901 -93.610000  \n",
      "902 -90.400000  \n",
      "903 -87.986500  \n",
      "904 -88.089750  \n",
      "905 -91.010500  \n",
      "906 -90.685017  \n",
      "907 -90.337300  \n",
      "908 -91.097000  \n",
      "909 -90.564900  \n",
      "910 -86.528000  \n",
      "911 -87.565400  \n",
      "912 -86.487400  \n",
      "913 -86.125000  \n",
      "914 -88.870000  \n",
      "915 -89.487925  \n",
      "916 -89.800000  \n",
      "917 -88.605000  \n",
      "918 -89.687400  \n",
      "919 -92.810000  \n",
      "920 -92.500000  \n",
      "921 -92.640000  \n",
      "922 -92.804100  \n",
      "923 -92.509800  \n",
      "924 -93.427400  \n",
      "925 -92.613100  \n",
      "\n",
      "[926 rows x 6 columns]\n"
     ]
    }
   ],
   "source": [
    "print grouped"
   ]
  },
  {
   "cell_type": "code",
   "execution_count": null,
   "metadata": {
    "collapsed": true
   },
   "outputs": [],
   "source": []
  }
 ],
 "metadata": {
  "kernelspec": {
   "display_name": "Python 2",
   "language": "python",
   "name": "python2"
  },
  "language_info": {
   "codemirror_mode": {
    "name": "ipython",
    "version": 2
   },
   "file_extension": ".py",
   "mimetype": "text/x-python",
   "name": "python",
   "nbconvert_exporter": "python",
   "pygments_lexer": "ipython2",
   "version": "2.7.13"
  }
 },
 "nbformat": 4,
 "nbformat_minor": 2
}
